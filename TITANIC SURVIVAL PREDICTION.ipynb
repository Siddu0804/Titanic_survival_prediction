{
 "cells": [
  {
   "cell_type": "code",
   "execution_count": null,
   "id": "fa3ed85a-0a06-42fa-93e1-318880592330",
   "metadata": {},
   "outputs": [],
   "source": [
    "pip install numpy\n"
   ]
  },
  {
   "cell_type": "code",
   "execution_count": null,
   "id": "01492392-e9d3-4305-a89c-fd5245b0d1cd",
   "metadata": {},
   "outputs": [],
   "source": [
    "pip install pandas\n"
   ]
  },
  {
   "cell_type": "code",
   "execution_count": null,
   "id": "ed852483-8c28-46eb-9344-ad70ab0ebb23",
   "metadata": {},
   "outputs": [],
   "source": [
    "pip install matplotlib.pyplot"
   ]
  },
  {
   "cell_type": "code",
   "execution_count": null,
   "id": "ede767ed-867e-4791-a5a4-a87f289b2259",
   "metadata": {},
   "outputs": [],
   "source": [
    "pip install --upgrade pip"
   ]
  },
  {
   "cell_type": "code",
   "execution_count": null,
   "id": "1175f0ae-a9d9-43fa-8184-c7dd10e945db",
   "metadata": {},
   "outputs": [],
   "source": [
    "!pip install matplotlib"
   ]
  },
  {
   "cell_type": "code",
   "execution_count": null,
   "id": "9faa99a3-a545-49db-8842-38848fa5f3d7",
   "metadata": {},
   "outputs": [],
   "source": [
    "pip install seaborn"
   ]
  },
  {
   "cell_type": "code",
   "execution_count": null,
   "id": "f27a87eb-226a-46cc-9d8e-10af4cb2d5f5",
   "metadata": {},
   "outputs": [],
   "source": [
    "import numpy as np\n",
    "import pandas as pd\n",
    "import matplotlib.pyplot as plt\n",
    "import seaborn as sns"
   ]
  },
  {
   "cell_type": "code",
   "execution_count": null,
   "id": "f51e9ff3-b639-46de-b011-d14e1cd8e369",
   "metadata": {},
   "outputs": [],
   "source": [
    "df = pd.read_csv(\"Titanic.csv\")\n"
   ]
  },
  {
   "cell_type": "code",
   "execution_count": null,
   "id": "2a04368a-fc25-4821-9c7d-0cea8486b53f",
   "metadata": {},
   "outputs": [],
   "source": [
    "df.head()"
   ]
  },
  {
   "cell_type": "code",
   "execution_count": null,
   "id": "0582f597-d41e-47ec-b40d-0ad99232c767",
   "metadata": {},
   "outputs": [],
   "source": [
    "df.head(10)"
   ]
  },
  {
   "cell_type": "code",
   "execution_count": null,
   "id": "068354d1-57f4-4656-b0ff-cd0b56864947",
   "metadata": {},
   "outputs": [],
   "source": [
    "df.shape"
   ]
  },
  {
   "cell_type": "code",
   "execution_count": null,
   "id": "73692c3d-6ebb-4ca2-8441-a1c6ad1299b5",
   "metadata": {},
   "outputs": [],
   "source": [
    "df.describe()"
   ]
  },
  {
   "cell_type": "code",
   "execution_count": null,
   "id": "e9c053c6-53f7-4b1c-8c8a-59633c9b15dd",
   "metadata": {},
   "outputs": [],
   "source": [
    "df['Survived'].value_counts()"
   ]
  },
  {
   "cell_type": "code",
   "execution_count": null,
   "id": "dbabf0f6-0ffb-4f88-98cf-1a8b7f77f751",
   "metadata": {},
   "outputs": [],
   "source": [
    "#let's visualize the count of survivals wrt pclass\n",
    "sns.countplot(x=df['Survived'], hue=df['Pclass'])"
   ]
  },
  {
   "cell_type": "code",
   "execution_count": null,
   "id": "11aac0d6-ddf9-4f37-b49e-401af6fd5308",
   "metadata": {},
   "outputs": [],
   "source": []
  },
  {
   "cell_type": "code",
   "execution_count": null,
   "id": "239523a9-f824-444c-b35d-433505f9912b",
   "metadata": {},
   "outputs": [],
   "source": [
    "#let's visualize the count of survivals wrt Gender\n",
    "sns.countplot(x=df['Sex'], hue=df['Survived'])"
   ]
  },
  {
   "cell_type": "code",
   "execution_count": null,
   "id": "d08fd4d9-0d3d-417c-98d6-55b1bddb99fa",
   "metadata": {},
   "outputs": [],
   "source": [
    "#Look at survival rate by sex\n",
    "df.groupby('Sex')[['Survived']].mean()"
   ]
  },
  {
   "cell_type": "code",
   "execution_count": null,
   "id": "9fc23176-0b6e-49c0-95ec-bf4158ad9148",
   "metadata": {},
   "outputs": [],
   "source": [
    "df['Sex'].unique()"
   ]
  },
  {
   "cell_type": "code",
   "execution_count": null,
   "id": "cbb50177-a20c-46c4-ae4e-0a52c127f49e",
   "metadata": {},
   "outputs": [],
   "source": [
    "pip install scikit-learn"
   ]
  },
  {
   "cell_type": "code",
   "execution_count": null,
   "id": "e206447e-2554-4a52-b8e3-b00ce83b30e7",
   "metadata": {},
   "outputs": [],
   "source": [
    "import pandas as pd\n",
    "from sklearn.preprocessing import LabelEncoder\n",
    "\n",
    "# Load data into DataFrame\n",
    "df = pd.read_csv('Titanic.csv')\n",
    "\n",
    "# Initialize the LabelEncoder\n",
    "labelencoder = LabelEncoder()\n",
    "\n",
    "# Apply LabelEncoder to the 'Sex' column\n",
    "df['Sex'] = labelencoder.fit_transform(df['Sex'])\n",
    "\n",
    "# Display the DataFrame\n",
    "print(df.head())"
   ]
  },
  {
   "cell_type": "code",
   "execution_count": null,
   "id": "8ac61d10-618d-4ba2-9b46-99d1c5f52252",
   "metadata": {},
   "outputs": [],
   "source": [
    "df['Sex'], df['Survived']"
   ]
  },
  {
   "cell_type": "code",
   "execution_count": null,
   "id": "5c54e537-879f-44a2-8a47-f3ac270c61e6",
   "metadata": {},
   "outputs": [],
   "source": [
    "import pandas as pd\n",
    "from sklearn.preprocessing import LabelEncoder\n",
    "import seaborn as sns\n",
    "import matplotlib.pyplot as plt\n",
    "\n",
    "# Load data into DataFrame\n",
    "# Replace 'yourfile.csv' with the path to your actual data file\n",
    "df = pd.read_csv('Titanic.csv')\n",
    "\n",
    "# Initialize the LabelEncoder\n",
    "labelencoder = LabelEncoder()\n",
    "\n",
    "# Apply LabelEncoder to the 'Sex' column\n",
    "df['Sex'] = labelencoder.fit_transform(df['Sex'])\n",
    "\n",
    "# Plot countplot\n",
    "sns.countplot(x=df['Sex'], hue=df[\"Survived\"])\n",
    "\n",
    "# Show the plot\n",
    "plt.show()\n"
   ]
  },
  {
   "cell_type": "code",
   "execution_count": null,
   "id": "df6b2538-2c4a-42ce-8077-2e85ce070886",
   "metadata": {},
   "outputs": [],
   "source": [
    "sns.countplot(x=df['Sex'], hue=df[\"Survived\"])"
   ]
  },
  {
   "cell_type": "code",
   "execution_count": null,
   "id": "67bce7f7-4400-4734-9dcb-e4e32e0764cb",
   "metadata": {},
   "outputs": [],
   "source": [
    "df.isna().sum()"
   ]
  },
  {
   "cell_type": "code",
   "execution_count": null,
   "id": "a6ab20d2-45d4-458f-b868-1fb82617bf40",
   "metadata": {},
   "outputs": [],
   "source": [
    "# After dropping non required column\n",
    "df=df.drop(['Age'], axis=1)"
   ]
  },
  {
   "cell_type": "code",
   "execution_count": null,
   "id": "21f0aa76-138e-4b15-bb41-7625be00f088",
   "metadata": {},
   "outputs": [],
   "source": [
    "df_final = df\n",
    "df_final.head(10)"
   ]
  },
  {
   "cell_type": "code",
   "execution_count": null,
   "id": "8a4f5311-9aff-4d1e-a270-8ec6032de54a",
   "metadata": {},
   "outputs": [],
   "source": [
    "X= df[['Pclass', 'Sex']]\n",
    "Y=df['Survived']"
   ]
  },
  {
   "cell_type": "code",
   "execution_count": null,
   "id": "71a695a7-256c-4e91-88fa-dca44070e335",
   "metadata": {},
   "outputs": [],
   "source": [
    "from sklearn.model_selection import train_test_split\n",
    "X_train, X_test, Y_train, Y_test = train_test_split(X, Y, test_size = 0.2, random_state = 0)"
   ]
  },
  {
   "cell_type": "code",
   "execution_count": null,
   "id": "44436b65-9553-425c-9905-3679cf4e7353",
   "metadata": {},
   "outputs": [],
   "source": [
    "from sklearn.linear_model import LogisticRegression\n",
    "\n",
    "log = LogisticRegression(random_state = 0)\n",
    "log.fit(X_train, Y_train)"
   ]
  },
  {
   "cell_type": "code",
   "execution_count": null,
   "id": "5fbc54e1-df6d-4f7d-8017-77070d404ecf",
   "metadata": {},
   "outputs": [],
   "source": [
    "pred = print(log.predict(X_test))"
   ]
  },
  {
   "cell_type": "code",
   "execution_count": null,
   "id": "ea6bf275-b89e-4430-ad4c-8283507617da",
   "metadata": {},
   "outputs": [],
   "source": [
    "print(Y_test)"
   ]
  },
  {
   "cell_type": "code",
   "execution_count": null,
   "id": "33dda7af-039a-4056-915a-161b01684697",
   "metadata": {},
   "outputs": [],
   "source": [
    "import warnings\n",
    "warnings.filterwarnings(\"ignore\")\n",
    "\n",
    "res= log.predict([[2,1]])\n",
    "\n",
    "if(res==0):\n",
    "  print(\"So Sorry! Not Survived\")\n",
    "else:\n",
    "  print(\"Survived\")"
   ]
  },
  {
   "cell_type": "code",
   "execution_count": null,
   "id": "9f3cbd7b-7328-4930-b88f-6bcdaea96f6e",
   "metadata": {},
   "outputs": [],
   "source": []
  }
 ],
 "metadata": {
  "kernelspec": {
   "display_name": "Python 3 (ipykernel)",
   "language": "python",
   "name": "python3"
  },
  "language_info": {
   "codemirror_mode": {
    "name": "ipython",
    "version": 3
   },
   "file_extension": ".py",
   "mimetype": "text/x-python",
   "name": "python",
   "nbconvert_exporter": "python",
   "pygments_lexer": "ipython3",
   "version": "3.12.4"
  }
 },
 "nbformat": 4,
 "nbformat_minor": 5
}
